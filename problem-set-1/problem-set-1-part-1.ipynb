{
 "cells": [
  {
   "cell_type": "markdown",
   "metadata": {},
   "source": [
    "# Problem Set 1 - Part 1: Logic and lambda calculus"
   ]
  },
  {
   "cell_type": "markdown",
   "metadata": {},
   "source": [
    "The lab is an exploration and learning exercise to be done in a group and also in discussion with the teachers and other students.\n",
    "\n",
    "Before starting, please read the following instructions on [how to work on group assignments](https://github.com/sdobnik/computational-semantics/blob/master/README.md).\n",
    "\n",
    "Write all your answers and the code in the appropriate boxes below."
   ]
  },
  {
   "cell_type": "markdown",
   "metadata": {},
   "source": [
    "## Translating English to logic and evaluating logic in a model"
   ]
  },
  {
   "cell_type": "code",
   "execution_count": 2,
   "metadata": {},
   "outputs": [],
   "source": [
    "import nltk\n",
    "from utils import display_latex, display_translation, display_tree, display, Markdown\n",
    "read_expr = nltk.sem.Expression.fromstring"
   ]
  },
  {
   "cell_type": "markdown",
   "metadata": {},
   "source": [
    "### 1. Propositional logic\n",
    "Translate the following sentences into **propositional logic** and verify that they parse with Expression.fromstring(). Provide a key which shows how the propositional variables in your translation correspond to expressions of English. Briefly discuss any difficulties you encounter. (By difficulties we mean cases where the semantics of English expressions cannot be expressed to the same degree by the semantics of your logic representations, i.e. they do not mean the same). **[4 + 1 marks]**"
   ]
  },
  {
   "cell_type": "code",
   "execution_count": 3,
   "metadata": {},
   "outputs": [
    {
     "data": {
      "text/markdown": [
       "\"If Alex plays the piano, she is smart.\": $(p\\ \\to\\ q)$"
      ],
      "text/plain": [
       "<IPython.core.display.Markdown object>"
      ]
     },
     "metadata": {},
     "output_type": "display_data"
    },
    {
     "data": {
      "text/markdown": [
       "\"Alex is both smart and musical.\": $(q\\ \\land\\ r)$"
      ],
      "text/plain": [
       "<IPython.core.display.Markdown object>"
      ]
     },
     "metadata": {},
     "output_type": "display_data"
    },
    {
     "data": {
      "text/markdown": [
       "\"If Alex is not smart, Lydia is not happy.\": $(-q\\ \\to\\ -s)$"
      ],
      "text/plain": [
       "<IPython.core.display.Markdown object>"
      ]
     },
     "metadata": {},
     "output_type": "display_data"
    },
    {
     "data": {
      "text/markdown": [
       "\"If Alex or George plays the piano, they are musical.\": $((p\\ \\lor\\ t)\\ \\to\\ (r\\ \\land\\ u))$"
      ],
      "text/plain": [
       "<IPython.core.display.Markdown object>"
      ]
     },
     "metadata": {},
     "output_type": "display_data"
    },
    {
     "data": {
      "text/markdown": [
       "\"George plays the piano.\": $t$"
      ],
      "text/plain": [
       "<IPython.core.display.Markdown object>"
      ]
     },
     "metadata": {},
     "output_type": "display_data"
    }
   ],
   "source": [
    "propositions = {\n",
    "    \"If Alex plays the piano, she is smart.\":\n",
    "    read_expr('p -> q'),\n",
    "    \n",
    "    \"Alex is both smart and musical.\":\n",
    "    read_expr('q & r'),\n",
    "    \n",
    "    \"If Alex is not smart, Lydia is not happy.\":\n",
    "    read_expr('(-q) -> (-s)'),\n",
    "    \n",
    "    \"If Alex or George plays the piano, they are musical.\":\n",
    "    read_expr('(p | t) -> (r & u)'),\n",
    "    \n",
    "    \"George plays the piano.\":\n",
    "    read_expr('t'),\n",
    "}\n",
    "\n",
    "for text, semrep in propositions.items():\n",
    "    display_translation(text, semrep)"
   ]
  },
  {
   "cell_type": "markdown",
   "metadata": {},
   "source": [
    "*Difficulties encountered:*\n",
    "\n",
    "Sentence \"If Alex or George plays the piano, they are musical.\" could be understood in multiple ways, here we took literal logical meaning (even if only one - Alex or George - plays the piano, they are still both musical).\n",
    "\n",
    "\n",
    "*Key:*\n",
    "\n",
    "p = Alex plays the piano\n",
    "\n",
    "q = Alex is smart\n",
    "\n",
    "r = Alex is musical\n",
    "\n",
    "s = Lydia is happy\n",
    "\n",
    "t = George plays the piano\n",
    "\n",
    "u = George is musical"
   ]
  },
  {
   "cell_type": "markdown",
   "metadata": {},
   "source": [
    "### 2. Valuation of Propositional logic\n",
    "\n",
    "Imagine that we observe a world where \n",
    "- (i) Alex does not play the piano,\n",
    "- (ii) Alex and Lydia are smart and musical,\n",
    "- (iii) George is not musical,\n",
    "- (iv) Lydia is happy,\n",
    "- (viii) George plays the piano. \n",
    "\n",
    "Translate this informal description of the world into a model by appropriately defining an evaluation function and evaluate the formulae from Question 1 in this model. Briefly comment the answers you get. **[4 + 1 marks]**."
   ]
  },
  {
   "cell_type": "code",
   "execution_count": 4,
   "metadata": {},
   "outputs": [
    {
     "name": "stdout",
     "output_type": "stream",
     "text": [
      "True\n",
      "True\n",
      "True\n",
      "False\n",
      "True\n"
     ]
    }
   ],
   "source": [
    "# answers here\n",
    "# In addition to key:\n",
    "# w = Lydia is smart\n",
    "# x = Lydia is musical\n",
    "\n",
    "val = nltk.Valuation([('p', False), ('q', True), ('r', True), ('w', True), ('x', True), ('u', False), ('s', True), ('t', True)])\n",
    "dom = set([])\n",
    "g = nltk.Assignment(dom)\n",
    "m = nltk.Model(dom, val)\n",
    "\n",
    "def evaluate_function(x):\n",
    "    return m.evaluate(str(x), g)\n",
    "    \n",
    "for text, semrep in propositions.items():\n",
    "    print(evaluate_function(semrep))"
   ]
  },
  {
   "cell_type": "markdown",
   "metadata": {},
   "source": [
    "*Comments:*\n",
    "\n",
    "Sentences were evaluated correctly according to our model."
   ]
  },
  {
   "cell_type": "markdown",
   "metadata": {},
   "source": [
    "### 3. Predicate logic *without quantifiers*\n",
    "\n",
    "Translate the following sentences into predicate-argument formulae of First Order Logic and verify that they parse with `Expression.fromstring()`. Briefly discuss any difficulties you encounter. **[4 + 1 marks]**"
   ]
  },
  {
   "cell_type": "code",
   "execution_count": 8,
   "metadata": {},
   "outputs": [
    {
     "data": {
      "text/markdown": [
       "\"Lydia likes George but Lydia doesn't like Alex\": $(like(Lydia,George)\\ \\land\\ -like(Lydia,Alex))$"
      ],
      "text/plain": [
       "<IPython.core.display.Markdown object>"
      ]
     },
     "metadata": {},
     "output_type": "display_data"
    },
    {
     "data": {
      "text/markdown": [
       "\"Lydia likes herself and so does George\": $(like(Lydia,Lydia)\\ \\land\\ like(George,Lydia))$"
      ],
      "text/plain": [
       "<IPython.core.display.Markdown object>"
      ]
     },
     "metadata": {},
     "output_type": "display_data"
    },
    {
     "data": {
      "text/markdown": [
       "\"Charlie is an English pianist who plays a sonata\": $(english(Charlie)\\ \\land\\ pianist(Charlie)\\ \\land\\ play(Charlie,sonata))$"
      ],
      "text/plain": [
       "<IPython.core.display.Markdown object>"
      ]
     },
     "metadata": {},
     "output_type": "display_data"
    },
    {
     "data": {
      "text/markdown": [
       "\"Lydia and George admire each other\": $(admire(Lydia,George)\\ \\land\\ admire(George,Lydia))$"
      ],
      "text/plain": [
       "<IPython.core.display.Markdown object>"
      ]
     },
     "metadata": {},
     "output_type": "display_data"
    }
   ],
   "source": [
    "sentences1 = {\n",
    "    \"Lydia likes George but Lydia doesn't like Alex\": \n",
    "    read_expr(r'like(Lydia, George) & -like(Lydia, Alex)'),\n",
    "    \n",
    "    \"Lydia likes herself and so does George\":\n",
    "    read_expr(r'like(Lydia, Lydia) & like(George, Lydia)'),\n",
    "    \n",
    "    \"Charlie is an English pianist who plays a sonata\":\n",
    "    read_expr(r'english(Charlie) & pianist(Charlie) & play(Charlie, sonata)'),\n",
    "    \n",
    "    \"Lydia and George admire each other\":\n",
    "    read_expr(r'admire(Lydia, George) & admire(George, Lydia)'),\n",
    "}\n",
    "\n",
    "# to help understand the notation:\n",
    "description = \"\"\" \n",
    "Lydia => L\n",
    "George => G\n",
    "Alex => A\n",
    "Charlie => C\n",
    "sonata => s\n",
    "like => {(L, G), (L, L), (G, G)}\n",
    "english => {C}\n",
    "pianist => {C}\n",
    "play => {(C, s)}\n",
    "admire => {(L, G), (G, L)}\n",
    "\"\"\"\n",
    "\n",
    "for text, semrep in sentences1.items():\n",
    "    display_translation(text, semrep)\n"
   ]
  },
  {
   "cell_type": "markdown",
   "metadata": {},
   "source": [
    "*Difficulties encountered:*\n",
    "\n",
    "In sentence \"Lydia likes herself and so does George\" it's not clear if George likes himself or Lydia. Also, \"Lydia and George admire each other\" can be understood in different ways."
   ]
  },
  {
   "cell_type": "markdown",
   "metadata": {},
   "source": [
    "### 4. First order logic with quantifiers\n",
    "\n",
    "Translate the following sentences into quantified formulas of First Order Logic and verify that they parse with `Expression.fromstring()`. Briefly discuss any difficulties you encounter. **[4 + 1 marks]**"
   ]
  },
  {
   "cell_type": "code",
   "execution_count": 9,
   "metadata": {},
   "outputs": [
    {
     "data": {
      "text/markdown": [
       "\"Charlie knows a woman who likes George\": $\\exists\\ x.(woman(x)\\ \\land\\ know(Charlie,x)\\ \\land\\ like(x,George))$"
      ],
      "text/plain": [
       "<IPython.core.display.Markdown object>"
      ]
     },
     "metadata": {},
     "output_type": "display_data"
    },
    {
     "data": {
      "text/markdown": [
       "\"George admires everybody and Lydia admires nobody\": $(\\forall\\ x.admire(George,x)\\ \\land\\ -\\exists\\ y.admire(Lydia,y))$"
      ],
      "text/plain": [
       "<IPython.core.display.Markdown object>"
      ]
     },
     "metadata": {},
     "output_type": "display_data"
    },
    {
     "data": {
      "text/markdown": [
       "\"Nobody admires everybody\": $\\forall\\ x.\\exists\\ y.-admire(x,y)$"
      ],
      "text/plain": [
       "<IPython.core.display.Markdown object>"
      ]
     },
     "metadata": {},
     "output_type": "display_data"
    },
    {
     "data": {
      "text/markdown": [
       "\"Exactly one musician plays everything Alex wrote\": $((\\exists\\ x.((musician(x)\\ \\land\\ \\forall\\ y.wrote(Alex,y))\\ \\to\\ play(x,y))\\ \\land\\ \\forall\\ z.(musician(z)\\ \\land\\ play(z,y)))\\ \\to\\ (z\\ =\\ x))$"
      ],
      "text/plain": [
       "<IPython.core.display.Markdown object>"
      ]
     },
     "metadata": {},
     "output_type": "display_data"
    }
   ],
   "source": [
    "sentences2 = {\n",
    "    \"Charlie knows a woman who likes George\":\n",
    "    read_expr('exists x.(woman(x) & know(Charlie, x) & like(x, George))'),\n",
    "    \n",
    "    \"George admires everybody and Lydia admires nobody\":\n",
    "    read_expr('all x.admire(George, x) & -exists y.admire(Lydia, y)'),\n",
    "\n",
    "    \"Nobody admires everybody\":\n",
    "    read_expr('all x.(exists y.(-admire(x,y)))'),\n",
    "    \n",
    "    \"Exactly one musician plays everything Alex wrote\":\n",
    "    read_expr('exists x.(musician(x) & all y.(wrote(Alex, y)) -> play(x,y)) & all z.(musician(z) & play(z,y)) -> z=x'),\n",
    "    \n",
    "}\n",
    "\n",
    "for text, semrep in sentences2.items():\n",
    "    display_translation(text, semrep)"
   ]
  },
  {
   "cell_type": "markdown",
   "metadata": {},
   "source": [
    "*Difficulties encountered:*\n",
    "\n",
    "Some sentences (like the 2nd one and the last one) can be translated in several different ways."
   ]
  },
  {
   "cell_type": "markdown",
   "metadata": {},
   "source": [
    "### 5. Valuation of first order logic\n",
    "\n",
    "We observe a world with entities Lydia, George, Alex, Charlie and Bertie, sonata, etude, prelude, waltz, scherzo.\n",
    "\n",
    "1. Lydia likes Lydia, George, Alex and Charlie. George likes Lydia, Bertie and George. Alex likes Alex. Charlie likes Lydia, George, Alex, Charlie and Bertie. Bertie likes Alex.\n",
    "2. Lydia, George, Alex, Charlie and Bertie are English.\n",
    "3. Charlie and Bertie are pianists.\n",
    "4. Charlie plays a sonata, an etude and a waltz. Bertie plays a waltz and a scherzo. Lydia plays an etude, a prelude and a waltz.\n",
    "5. Lydia admires Lydia, Charlie and Bertie. George admires Lydia, George, Alex, Charlie and Bertie. Alex admires Lydia, Alex and Bertie. Charlie admires George and Bertie. Bertie admires Lydia, George, Alex, Charlie and Bertie.\n",
    "6. Lydia knows Lydia, George, Alex, Charlie and Bertie. George knows Lydia, George and Bertie. Alex knows Lydia, Alex and Bertie. Charlie knows George, Charlie and Bertie. Bertie knows Lydia, George, Alex, Charlie and Bertie.\n",
    "7. Lydia, Alex and Charlie are women.\n",
    "8. George and Bertie are men.\n",
    "9. Alex wrote a sonata, an etude an a waltz.\n",
    "10. Lydia, Alex, Charlie and Bertie are musicians.\n",
    "\n",
    "Translate this informal description of the world into a model and evaluate the formulae from Questions 3 and 4 in this model. Briefly comment on the answers you get **[3 + 2 marks]**."
   ]
  },
  {
   "cell_type": "code",
   "execution_count": 10,
   "metadata": {},
   "outputs": [
    {
     "name": "stdout",
     "output_type": "stream",
     "text": [
      "False\n"
     ]
    },
    {
     "data": {
      "text/markdown": [
       "$(like(Lydia,George)\\ \\land\\ -like(Lydia,Alex))$"
      ],
      "text/plain": [
       "<IPython.core.display.Markdown object>"
      ]
     },
     "metadata": {},
     "output_type": "display_data"
    },
    {
     "data": {
      "text/markdown": [
       "----"
      ],
      "text/plain": [
       "<IPython.core.display.Markdown object>"
      ]
     },
     "metadata": {},
     "output_type": "display_data"
    },
    {
     "name": "stdout",
     "output_type": "stream",
     "text": [
      "True\n"
     ]
    },
    {
     "data": {
      "text/markdown": [
       "$(like(Lydia,Lydia)\\ \\land\\ like(George,Lydia))$"
      ],
      "text/plain": [
       "<IPython.core.display.Markdown object>"
      ]
     },
     "metadata": {},
     "output_type": "display_data"
    },
    {
     "data": {
      "text/markdown": [
       "----"
      ],
      "text/plain": [
       "<IPython.core.display.Markdown object>"
      ]
     },
     "metadata": {},
     "output_type": "display_data"
    },
    {
     "name": "stdout",
     "output_type": "stream",
     "text": [
      "True\n"
     ]
    },
    {
     "data": {
      "text/markdown": [
       "$(english(Charlie)\\ \\land\\ pianist(Charlie)\\ \\land\\ play(Charlie,sonata))$"
      ],
      "text/plain": [
       "<IPython.core.display.Markdown object>"
      ]
     },
     "metadata": {},
     "output_type": "display_data"
    },
    {
     "data": {
      "text/markdown": [
       "----"
      ],
      "text/plain": [
       "<IPython.core.display.Markdown object>"
      ]
     },
     "metadata": {},
     "output_type": "display_data"
    },
    {
     "name": "stdout",
     "output_type": "stream",
     "text": [
      "False\n"
     ]
    },
    {
     "data": {
      "text/markdown": [
       "$(admire(Lydia,George)\\ \\land\\ admire(George,Lydia))$"
      ],
      "text/plain": [
       "<IPython.core.display.Markdown object>"
      ]
     },
     "metadata": {},
     "output_type": "display_data"
    },
    {
     "data": {
      "text/markdown": [
       "----"
      ],
      "text/plain": [
       "<IPython.core.display.Markdown object>"
      ]
     },
     "metadata": {},
     "output_type": "display_data"
    },
    {
     "name": "stdout",
     "output_type": "stream",
     "text": [
      "True\n"
     ]
    },
    {
     "data": {
      "text/markdown": [
       "$\\exists\\ x.(woman(x)\\ \\land\\ know(Charlie,x)\\ \\land\\ like(x,George))$"
      ],
      "text/plain": [
       "<IPython.core.display.Markdown object>"
      ]
     },
     "metadata": {},
     "output_type": "display_data"
    },
    {
     "data": {
      "text/markdown": [
       "----"
      ],
      "text/plain": [
       "<IPython.core.display.Markdown object>"
      ]
     },
     "metadata": {},
     "output_type": "display_data"
    },
    {
     "name": "stdout",
     "output_type": "stream",
     "text": [
      "False\n"
     ]
    },
    {
     "data": {
      "text/markdown": [
       "$(\\forall\\ x.admire(George,x)\\ \\land\\ -\\exists\\ y.admire(Lydia,y))$"
      ],
      "text/plain": [
       "<IPython.core.display.Markdown object>"
      ]
     },
     "metadata": {},
     "output_type": "display_data"
    },
    {
     "data": {
      "text/markdown": [
       "----"
      ],
      "text/plain": [
       "<IPython.core.display.Markdown object>"
      ]
     },
     "metadata": {},
     "output_type": "display_data"
    },
    {
     "name": "stdout",
     "output_type": "stream",
     "text": [
      "True\n"
     ]
    },
    {
     "data": {
      "text/markdown": [
       "$\\forall\\ x.\\exists\\ y.-admire(x,y)$"
      ],
      "text/plain": [
       "<IPython.core.display.Markdown object>"
      ]
     },
     "metadata": {},
     "output_type": "display_data"
    },
    {
     "data": {
      "text/markdown": [
       "----"
      ],
      "text/plain": [
       "<IPython.core.display.Markdown object>"
      ]
     },
     "metadata": {},
     "output_type": "display_data"
    },
    {
     "name": "stdout",
     "output_type": "stream",
     "text": [
      "True\n"
     ]
    },
    {
     "data": {
      "text/markdown": [
       "$((\\exists\\ x.((musician(x)\\ \\land\\ \\forall\\ y.wrote(Alex,y))\\ \\to\\ play(x,y))\\ \\land\\ \\forall\\ z.(musician(z)\\ \\land\\ play(z,y)))\\ \\to\\ (z\\ =\\ x))$"
      ],
      "text/plain": [
       "<IPython.core.display.Markdown object>"
      ]
     },
     "metadata": {},
     "output_type": "display_data"
    },
    {
     "data": {
      "text/markdown": [
       "----"
      ],
      "text/plain": [
       "<IPython.core.display.Markdown object>"
      ]
     },
     "metadata": {},
     "output_type": "display_data"
    }
   ],
   "source": [
    "entities = set(['B', 'A', 'c', 'L', 'C', 's', 'p', 'w', 'e', 'G'])\n",
    "#entities = set(['p','t','e','h','r','s','u','l','w','c'])\n",
    "#adjusted to what I already used in previous parts\n",
    "\n",
    "assign = \"\"\"\n",
    "Lydia => L\n",
    "George => G\n",
    "Alex => A\n",
    "Charlie => C\n",
    "Bertie => B\n",
    "sonata => s\n",
    "etude => e\n",
    "waltz => w\n",
    "scherzo => c\n",
    "prelude => p\n",
    "like => {(L, L), (L, G), (L, A), (L, C), (G, L), (G, B), (G, G), (A, A), (C, L), (C, G), (C, A), (C, C), (C, B), (B, A)}\n",
    "english => {L, G, A, C, B}\n",
    "pianist => {C, B}\n",
    "play => {(C, s), (C, e), (C, w), (B, w), (B, c), (L, e), (L, p), (L, w)}\n",
    "admire => {(L, L), (L, C), (L, B), (G, L), (G, G), (G, A), (G, C), (G, B), (A, L), (A, A), (A, B), (C, G), (C, B), (B, L), (B, G), (B, A), (B, C), (B, B)}\n",
    "know => {(L, L), (L, G), (L, A), (L, C), (L, B), (G, L), (G, G), (G, B), (A, L), (A, A), (A, B), (C, G), (C, C), (C, B), (B, L), (B, G), (B, A), (B, C), (B, B)}\n",
    "woman => {L, A, C}\n",
    "man => {G, B}\n",
    "wrote => {(A, s), (A, e), (A, w)}\n",
    "musician => {L, A, C, B}\n",
    "\"\"\"\n",
    "\n",
    "val2 = nltk.Valuation.fromstring(assign)\n",
    "\n",
    "g2 = nltk.Assignment(entities)\n",
    "m2 = nltk.Model(entities, val2)\n",
    "\n",
    "# sentences from question 3\n",
    "for text, semrep in sentences1.items():\n",
    "    print(m2.evaluate(str(semrep), g2))\n",
    "    display_latex(semrep)\n",
    "    display(Markdown('----'))\n",
    "\n",
    "# sentences from question 4\n",
    "for text, semrep in sentences2.items():\n",
    "    print(m2.evaluate(str(semrep), g2))\n",
    "    display_latex(semrep)\n",
    "    display(Markdown('----'))\n"
   ]
  },
  {
   "cell_type": "markdown",
   "metadata": {},
   "source": [
    "*Comments on the answers:*\n",
    "\n",
    "We can see that expressions are evaluated according to our model."
   ]
  },
  {
   "cell_type": "markdown",
   "metadata": {},
   "source": [
    "## Marks\n",
    "\n",
    "This part of the assignment has a total of 25 marks."
   ]
  }
 ],
 "metadata": {
  "kernelspec": {
   "display_name": "Python 3",
   "language": "python",
   "name": "python3"
  },
  "language_info": {
   "codemirror_mode": {
    "name": "ipython",
    "version": 3
   },
   "file_extension": ".py",
   "mimetype": "text/x-python",
   "name": "python",
   "nbconvert_exporter": "python",
   "pygments_lexer": "ipython3",
   "version": "3.7.4"
  }
 },
 "nbformat": 4,
 "nbformat_minor": 1
}
